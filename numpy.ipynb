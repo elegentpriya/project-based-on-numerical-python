{
 "cells": [
  {
   "cell_type": "code",
   "execution_count": 4,
   "id": "b09c05ac",
   "metadata": {},
   "outputs": [
    {
     "name": "stdout",
     "output_type": "stream",
     "text": [
      "Requirement already satisfied: numpy in c:\\users\\hp\\appdata\\local\\programs\\python\\python311\\lib\\site-packages (1.25.0)\n",
      "Note: you may need to restart the kernel to use updated packages.\n"
     ]
    },
    {
     "name": "stderr",
     "output_type": "stream",
     "text": [
      "\n",
      "[notice] A new release of pip available: 22.3.1 -> 23.1.2\n",
      "[notice] To update, run: python.exe -m pip install --upgrade pip\n"
     ]
    }
   ],
   "source": [
    "pip install numpy"
   ]
  },
  {
   "cell_type": "code",
   "execution_count": 1,
   "id": "79ed6dc9",
   "metadata": {},
   "outputs": [],
   "source": [
    "import numpy as np"
   ]
  },
  {
   "cell_type": "code",
   "execution_count": 4,
   "id": "a44997c5",
   "metadata": {},
   "outputs": [],
   "source": [
    "import numpy as np\n",
    "arr1=np.array([1,2,3,4,5],dtype=np.int64)"
   ]
  },
  {
   "cell_type": "code",
   "execution_count": 5,
   "id": "c729ca77",
   "metadata": {},
   "outputs": [
    {
     "data": {
      "text/plain": [
       "array([1, 2, 3, 4, 5], dtype=int64)"
      ]
     },
     "execution_count": 5,
     "metadata": {},
     "output_type": "execute_result"
    }
   ],
   "source": [
    "arr1"
   ]
  },
  {
   "cell_type": "code",
   "execution_count": 6,
   "id": "4e3d9728",
   "metadata": {},
   "outputs": [
    {
     "data": {
      "text/plain": [
       "dtype('int64')"
      ]
     },
     "execution_count": 6,
     "metadata": {},
     "output_type": "execute_result"
    }
   ],
   "source": [
    "arr1.dtype"
   ]
  },
  {
   "cell_type": "code",
   "execution_count": 7,
   "id": "a65d5e2f",
   "metadata": {},
   "outputs": [],
   "source": [
    "arr2=np.array([[1,2,3,4],[5,6,7,8]])"
   ]
  },
  {
   "cell_type": "code",
   "execution_count": 8,
   "id": "7806f032",
   "metadata": {},
   "outputs": [
    {
     "data": {
      "text/plain": [
       "array([[1, 2, 3, 4],\n",
       "       [5, 6, 7, 8]])"
      ]
     },
     "execution_count": 8,
     "metadata": {},
     "output_type": "execute_result"
    }
   ],
   "source": [
    "arr2"
   ]
  },
  {
   "cell_type": "code",
   "execution_count": 9,
   "id": "002ed9a5",
   "metadata": {},
   "outputs": [],
   "source": [
    "arr3=np.array([[[1,2,3,4],[5,6,7,8],[9,10,11,12],[13,14,15,16]]])"
   ]
  },
  {
   "cell_type": "code",
   "execution_count": 10,
   "id": "982ff18d",
   "metadata": {},
   "outputs": [
    {
     "data": {
      "text/plain": [
       "array([[[ 1,  2,  3,  4],\n",
       "        [ 5,  6,  7,  8],\n",
       "        [ 9, 10, 11, 12],\n",
       "        [13, 14, 15, 16]]])"
      ]
     },
     "execution_count": 10,
     "metadata": {},
     "output_type": "execute_result"
    }
   ],
   "source": [
    "arr3"
   ]
  },
  {
   "cell_type": "code",
   "execution_count": 11,
   "id": "f7b38bb7",
   "metadata": {},
   "outputs": [],
   "source": [
    "arr3=np.array([[[1,2,3,4],[5,6,7,8,]],[[9,10,11,12],[13,14,15,16]]])"
   ]
  },
  {
   "cell_type": "code",
   "execution_count": 12,
   "id": "b77732e0",
   "metadata": {},
   "outputs": [
    {
     "data": {
      "text/plain": [
       "array([[[ 1,  2,  3,  4],\n",
       "        [ 5,  6,  7,  8]],\n",
       "\n",
       "       [[ 9, 10, 11, 12],\n",
       "        [13, 14, 15, 16]]])"
      ]
     },
     "execution_count": 12,
     "metadata": {},
     "output_type": "execute_result"
    }
   ],
   "source": [
    "arr3"
   ]
  },
  {
   "cell_type": "code",
   "execution_count": 13,
   "id": "ae95c128",
   "metadata": {},
   "outputs": [
    {
     "data": {
      "text/plain": [
       "3"
      ]
     },
     "execution_count": 13,
     "metadata": {},
     "output_type": "execute_result"
    }
   ],
   "source": [
    "arr3.ndim"
   ]
  },
  {
   "cell_type": "code",
   "execution_count": 14,
   "id": "badf79d3",
   "metadata": {},
   "outputs": [],
   "source": [
    "arr=np.array([\n",
    "    [[1,2,3,4],[5,6,7,8]],\n",
    "    [[9,10,11,12],[13,14,15,16]]\n",
    "])"
   ]
  },
  {
   "cell_type": "code",
   "execution_count": 15,
   "id": "669878f6",
   "metadata": {},
   "outputs": [
    {
     "data": {
      "text/plain": [
       "array([[[ 1,  2,  3,  4],\n",
       "        [ 5,  6,  7,  8]],\n",
       "\n",
       "       [[ 9, 10, 11, 12],\n",
       "        [13, 14, 15, 16]]])"
      ]
     },
     "execution_count": 15,
     "metadata": {},
     "output_type": "execute_result"
    }
   ],
   "source": [
    "arr"
   ]
  },
  {
   "cell_type": "code",
   "execution_count": 16,
   "id": "9b904310",
   "metadata": {},
   "outputs": [
    {
     "data": {
      "text/plain": [
       "3"
      ]
     },
     "execution_count": 16,
     "metadata": {},
     "output_type": "execute_result"
    }
   ],
   "source": [
    "arr.ndim"
   ]
  },
  {
   "cell_type": "code",
   "execution_count": 17,
   "id": "a43a728f",
   "metadata": {},
   "outputs": [
    {
     "data": {
      "text/plain": [
       "(2, 2, 4)"
      ]
     },
     "execution_count": 17,
     "metadata": {},
     "output_type": "execute_result"
    }
   ],
   "source": [
    "arr.shape"
   ]
  },
  {
   "cell_type": "code",
   "execution_count": 18,
   "id": "218e0036",
   "metadata": {},
   "outputs": [
    {
     "data": {
      "text/plain": [
       "16"
      ]
     },
     "execution_count": 18,
     "metadata": {},
     "output_type": "execute_result"
    }
   ],
   "source": [
    "arr.size"
   ]
  },
  {
   "cell_type": "code",
   "execution_count": 20,
   "id": "f3c392a9",
   "metadata": {},
   "outputs": [],
   "source": [
    "arr4=np.array([[[[1,2,3],[4,5,6]]],[[[7,8,9],[10,11,12]]]])"
   ]
  },
  {
   "cell_type": "code",
   "execution_count": 21,
   "id": "7db6b786",
   "metadata": {},
   "outputs": [
    {
     "data": {
      "text/plain": [
       "array([[[[ 1,  2,  3],\n",
       "         [ 4,  5,  6]]],\n",
       "\n",
       "\n",
       "       [[[ 7,  8,  9],\n",
       "         [10, 11, 12]]]])"
      ]
     },
     "execution_count": 21,
     "metadata": {},
     "output_type": "execute_result"
    }
   ],
   "source": [
    "arr4"
   ]
  },
  {
   "cell_type": "code",
   "execution_count": 22,
   "id": "0d72d3ea",
   "metadata": {},
   "outputs": [
    {
     "data": {
      "text/plain": [
       "array([[0., 0., 0.],\n",
       "       [0., 0., 0.]])"
      ]
     },
     "execution_count": 22,
     "metadata": {},
     "output_type": "execute_result"
    }
   ],
   "source": [
    "np.zeros((2,3))"
   ]
  },
  {
   "cell_type": "code",
   "execution_count": 23,
   "id": "896d6827",
   "metadata": {},
   "outputs": [],
   "source": [
    "array1=np.ones((3,4))"
   ]
  },
  {
   "cell_type": "code",
   "execution_count": 24,
   "id": "740fee83",
   "metadata": {},
   "outputs": [
    {
     "data": {
      "text/plain": [
       "array([[1., 1., 1., 1.],\n",
       "       [1., 1., 1., 1.],\n",
       "       [1., 1., 1., 1.]])"
      ]
     },
     "execution_count": 24,
     "metadata": {},
     "output_type": "execute_result"
    }
   ],
   "source": [
    "array1"
   ]
  },
  {
   "cell_type": "markdown",
   "id": "c690eb0c",
   "metadata": {},
   "source": [
    "Empty array"
   ]
  },
  {
   "cell_type": "code",
   "execution_count": 25,
   "id": "79af3051",
   "metadata": {},
   "outputs": [],
   "source": [
    "e_array=np.empty((3,4))"
   ]
  },
  {
   "cell_type": "code",
   "execution_count": 26,
   "id": "7e9c1a24",
   "metadata": {},
   "outputs": [
    {
     "data": {
      "text/plain": [
       "array([[1., 1., 1., 1.],\n",
       "       [1., 1., 1., 1.],\n",
       "       [1., 1., 1., 1.]])"
      ]
     },
     "execution_count": 26,
     "metadata": {},
     "output_type": "execute_result"
    }
   ],
   "source": [
    "e_array"
   ]
  },
  {
   "cell_type": "code",
   "execution_count": 27,
   "id": "c8784a01",
   "metadata": {},
   "outputs": [
    {
     "data": {
      "text/plain": [
       "array([[1., 1., 1., 1.],\n",
       "       [1., 1., 1., 1.],\n",
       "       [1., 1., 1., 1.]])"
      ]
     },
     "execution_count": 27,
     "metadata": {},
     "output_type": "execute_result"
    }
   ],
   "source": [
    "e_array"
   ]
  },
  {
   "cell_type": "code",
   "execution_count": 28,
   "id": "bc8bb146",
   "metadata": {},
   "outputs": [],
   "source": [
    "i_array1=np.identity(3)"
   ]
  },
  {
   "cell_type": "code",
   "execution_count": 29,
   "id": "99f82d36",
   "metadata": {},
   "outputs": [
    {
     "data": {
      "text/plain": [
       "array([[1., 0., 0.],\n",
       "       [0., 1., 0.],\n",
       "       [0., 0., 1.]])"
      ]
     },
     "execution_count": 29,
     "metadata": {},
     "output_type": "execute_result"
    }
   ],
   "source": [
    "i_array1"
   ]
  },
  {
   "cell_type": "code",
   "execution_count": 30,
   "id": "64056d3d",
   "metadata": {},
   "outputs": [],
   "source": [
    "i_array2=np.eye(2)"
   ]
  },
  {
   "cell_type": "code",
   "execution_count": 31,
   "id": "035f90c8",
   "metadata": {},
   "outputs": [
    {
     "data": {
      "text/plain": [
       "array([[1., 0.],\n",
       "       [0., 1.]])"
      ]
     },
     "execution_count": 31,
     "metadata": {},
     "output_type": "execute_result"
    }
   ],
   "source": [
    "i_array2"
   ]
  },
  {
   "cell_type": "code",
   "execution_count": 32,
   "id": "36755358",
   "metadata": {},
   "outputs": [],
   "source": [
    "rand_array1=np.random.rand(5)"
   ]
  },
  {
   "cell_type": "code",
   "execution_count": 33,
   "id": "4503af2c",
   "metadata": {},
   "outputs": [
    {
     "data": {
      "text/plain": [
       "array([0.44949466, 0.98132519, 0.80112478, 0.41441524, 0.98658279])"
      ]
     },
     "execution_count": 33,
     "metadata": {},
     "output_type": "execute_result"
    }
   ],
   "source": [
    "rand_array1"
   ]
  },
  {
   "cell_type": "code",
   "execution_count": 34,
   "id": "dfb7a829",
   "metadata": {},
   "outputs": [],
   "source": [
    "rand_array1=np.random.rand(3,4)"
   ]
  },
  {
   "cell_type": "code",
   "execution_count": 35,
   "id": "2ac19a33",
   "metadata": {},
   "outputs": [
    {
     "data": {
      "text/plain": [
       "array([[0.18564405, 0.01047513, 0.07794712, 0.46599796],\n",
       "       [0.12830399, 0.92271014, 0.52255849, 0.48827638],\n",
       "       [0.99297272, 0.90827346, 0.71354378, 0.86090432]])"
      ]
     },
     "execution_count": 35,
     "metadata": {},
     "output_type": "execute_result"
    }
   ],
   "source": [
    "rand_array1"
   ]
  },
  {
   "cell_type": "code",
   "execution_count": 36,
   "id": "d9802621",
   "metadata": {},
   "outputs": [],
   "source": [
    "range_array2=np.arange(10)"
   ]
  },
  {
   "cell_type": "code",
   "execution_count": 37,
   "id": "e8d9a91d",
   "metadata": {},
   "outputs": [
    {
     "data": {
      "text/plain": [
       "array([0, 1, 2, 3, 4, 5, 6, 7, 8, 9])"
      ]
     },
     "execution_count": 37,
     "metadata": {},
     "output_type": "execute_result"
    }
   ],
   "source": [
    "range_array2"
   ]
  },
  {
   "cell_type": "code",
   "execution_count": 38,
   "id": "3e49d49e",
   "metadata": {},
   "outputs": [],
   "source": [
    "range_array2=np.arange(5,15,2)"
   ]
  },
  {
   "cell_type": "code",
   "execution_count": 39,
   "id": "27b9a86c",
   "metadata": {},
   "outputs": [
    {
     "data": {
      "text/plain": [
       "array([ 5,  7,  9, 11, 13])"
      ]
     },
     "execution_count": 39,
     "metadata": {},
     "output_type": "execute_result"
    }
   ],
   "source": [
    "range_array2"
   ]
  },
  {
   "cell_type": "code",
   "execution_count": 41,
   "id": "b3e7fab8",
   "metadata": {},
   "outputs": [
    {
     "name": "stdout",
     "output_type": "stream",
     "text": [
      "[False False False  True  True]\n"
     ]
    }
   ],
   "source": [
    "bool_array=np.array([1,2,3,4,5])\n",
    "condition=bool_array>3\n",
    "print(condition)"
   ]
  },
  {
   "cell_type": "code",
   "execution_count": 42,
   "id": "6e8c0f74",
   "metadata": {},
   "outputs": [],
   "source": [
    "f_array=np.full([2,3],15,dtype=int)"
   ]
  },
  {
   "cell_type": "code",
   "execution_count": 43,
   "id": "e53160d3",
   "metadata": {},
   "outputs": [
    {
     "data": {
      "text/plain": [
       "array([[15, 15, 15],\n",
       "       [15, 15, 15]])"
      ]
     },
     "execution_count": 43,
     "metadata": {},
     "output_type": "execute_result"
    }
   ],
   "source": [
    "f_array"
   ]
  },
  {
   "cell_type": "code",
   "execution_count": 45,
   "id": "c186ca8c",
   "metadata": {},
   "outputs": [],
   "source": [
    "lin_array1=np.linspace(0,10,5)"
   ]
  },
  {
   "cell_type": "code",
   "execution_count": 46,
   "id": "076ff319",
   "metadata": {},
   "outputs": [
    {
     "data": {
      "text/plain": [
       "array([ 0. ,  2.5,  5. ,  7.5, 10. ])"
      ]
     },
     "execution_count": 46,
     "metadata": {},
     "output_type": "execute_result"
    }
   ],
   "source": [
    "lin_array1"
   ]
  },
  {
   "cell_type": "code",
   "execution_count": 48,
   "id": "bc00af73",
   "metadata": {},
   "outputs": [],
   "source": [
    "re_array1=np.linspace(10,20,6).reshape(2,3)"
   ]
  },
  {
   "cell_type": "code",
   "execution_count": 49,
   "id": "a859d723",
   "metadata": {},
   "outputs": [
    {
     "data": {
      "text/plain": [
       "array([[10., 12., 14.],\n",
       "       [16., 18., 20.]])"
      ]
     },
     "execution_count": 49,
     "metadata": {},
     "output_type": "execute_result"
    }
   ],
   "source": [
    "re_array1"
   ]
  },
  {
   "cell_type": "code",
   "execution_count": 50,
   "id": "a9086b40",
   "metadata": {},
   "outputs": [],
   "source": [
    "re_array1=np.linspace(10,20,6).reshape(6,1)"
   ]
  },
  {
   "cell_type": "code",
   "execution_count": 51,
   "id": "b81e542e",
   "metadata": {},
   "outputs": [
    {
     "data": {
      "text/plain": [
       "array([[10.],\n",
       "       [12.],\n",
       "       [14.],\n",
       "       [16.],\n",
       "       [18.],\n",
       "       [20.]])"
      ]
     },
     "execution_count": 51,
     "metadata": {},
     "output_type": "execute_result"
    }
   ],
   "source": [
    "re_array1"
   ]
  },
  {
   "cell_type": "code",
   "execution_count": 54,
   "id": "85edface",
   "metadata": {},
   "outputs": [
    {
     "data": {
      "text/plain": [
       "array([[ 1,  3,  5,  7,  9],\n",
       "       [11, 13, 15, 17, 19]])"
      ]
     },
     "execution_count": 54,
     "metadata": {},
     "output_type": "execute_result"
    }
   ],
   "source": [
    "np.arange(1,20,2).reshape(2,5)"
   ]
  },
  {
   "cell_type": "code",
   "execution_count": 55,
   "id": "e9918d90",
   "metadata": {},
   "outputs": [
    {
     "data": {
      "text/plain": [
       "40"
      ]
     },
     "execution_count": 55,
     "metadata": {},
     "output_type": "execute_result"
    }
   ],
   "source": [
    "np.arange(100,300,5).size"
   ]
  },
  {
   "cell_type": "code",
   "execution_count": 56,
   "id": "3d163c82",
   "metadata": {},
   "outputs": [
    {
     "data": {
      "text/plain": [
       "array([[100, 105, 110, 115, 120, 125, 130, 135],\n",
       "       [140, 145, 150, 155, 160, 165, 170, 175],\n",
       "       [180, 185, 190, 195, 200, 205, 210, 215],\n",
       "       [220, 225, 230, 235, 240, 245, 250, 255],\n",
       "       [260, 265, 270, 275, 280, 285, 290, 295]])"
      ]
     },
     "execution_count": 56,
     "metadata": {},
     "output_type": "execute_result"
    }
   ],
   "source": [
    "np.arange(100,300,5).reshape(5,8)"
   ]
  },
  {
   "cell_type": "code",
   "execution_count": 57,
   "id": "26ac7053",
   "metadata": {},
   "outputs": [],
   "source": [
    "arith_array=np.array([25,50,56,58])"
   ]
  },
  {
   "cell_type": "code",
   "execution_count": 58,
   "id": "f60c2faa",
   "metadata": {},
   "outputs": [
    {
     "data": {
      "text/plain": [
       "array([25, 50, 56, 58])"
      ]
     },
     "execution_count": 58,
     "metadata": {},
     "output_type": "execute_result"
    }
   ],
   "source": [
    "arith_array"
   ]
  },
  {
   "cell_type": "code",
   "execution_count": 59,
   "id": "e6505c11",
   "metadata": {},
   "outputs": [
    {
     "name": "stdout",
     "output_type": "stream",
     "text": [
      "[30 55 61 63]\n"
     ]
    }
   ],
   "source": [
    "print(arith_array+5)"
   ]
  },
  {
   "cell_type": "code",
   "execution_count": 61,
   "id": "07a43c24",
   "metadata": {},
   "outputs": [
    {
     "name": "stdout",
     "output_type": "stream",
     "text": [
      "[20 45 51 53]\n"
     ]
    }
   ],
   "source": [
    "print(arith_array-5)"
   ]
  },
  {
   "cell_type": "code",
   "execution_count": 62,
   "id": "fa544d77",
   "metadata": {},
   "outputs": [
    {
     "name": "stdout",
     "output_type": "stream",
     "text": [
      "[ 50 100 112 116]\n"
     ]
    }
   ],
   "source": [
    "print(arith_array*2)"
   ]
  },
  {
   "cell_type": "code",
   "execution_count": 63,
   "id": "008391a0",
   "metadata": {},
   "outputs": [
    {
     "name": "stdout",
     "output_type": "stream",
     "text": [
      "[ 6.25 12.5  14.   14.5 ]\n"
     ]
    }
   ],
   "source": [
    "print(arith_array/4)"
   ]
  },
  {
   "cell_type": "code",
   "execution_count": 65,
   "id": "5ba12483",
   "metadata": {},
   "outputs": [
    {
     "name": "stdout",
     "output_type": "stream",
     "text": [
      "[1 2 3 4 5]\n",
      "1\n",
      "4\n"
     ]
    }
   ],
   "source": [
    "ind_array1=np.array([1,2,3,4,5])\n",
    "print(ind_array1)\n",
    "print(ind_array1[0])\n",
    "print(ind_array1[3])"
   ]
  },
  {
   "cell_type": "code",
   "execution_count": 66,
   "id": "568b4fe2",
   "metadata": {},
   "outputs": [
    {
     "name": "stdout",
     "output_type": "stream",
     "text": [
      "[2 3 4]\n"
     ]
    }
   ],
   "source": [
    "print(ind_array1[1:4])"
   ]
  },
  {
   "cell_type": "code",
   "execution_count": 67,
   "id": "41c75080",
   "metadata": {},
   "outputs": [
    {
     "name": "stdout",
     "output_type": "stream",
     "text": [
      "[1 2 3]\n"
     ]
    }
   ],
   "source": [
    "print(ind_array1[:3])"
   ]
  },
  {
   "cell_type": "code",
   "execution_count": 68,
   "id": "11bdddeb",
   "metadata": {},
   "outputs": [
    {
     "name": "stdout",
     "output_type": "stream",
     "text": [
      "[3 4 5]\n"
     ]
    }
   ],
   "source": [
    "print(ind_array1[2:])"
   ]
  },
  {
   "cell_type": "code",
   "execution_count": 69,
   "id": "6c842154",
   "metadata": {},
   "outputs": [
    {
     "name": "stdout",
     "output_type": "stream",
     "text": [
      "[10 20 30]\n",
      "[10 15 30]\n"
     ]
    }
   ],
   "source": [
    "mod_array=np.array([10,20,30])\n",
    "print(mod_array)\n",
    "mod_array[1]=15\n",
    "print(mod_array)"
   ]
  },
  {
   "cell_type": "code",
   "execution_count": 71,
   "id": "a8910aef",
   "metadata": {},
   "outputs": [],
   "source": [
    "ind_array2=np.array([[1,2,3],[4,5,6],[7,8,9]])"
   ]
  },
  {
   "cell_type": "code",
   "execution_count": 72,
   "id": "a7461f1b",
   "metadata": {},
   "outputs": [
    {
     "data": {
      "text/plain": [
       "array([[1, 2, 3],\n",
       "       [4, 5, 6],\n",
       "       [7, 8, 9]])"
      ]
     },
     "execution_count": 72,
     "metadata": {},
     "output_type": "execute_result"
    }
   ],
   "source": [
    "ind_array2"
   ]
  },
  {
   "cell_type": "code",
   "execution_count": 73,
   "id": "555f6e4e",
   "metadata": {},
   "outputs": [
    {
     "name": "stdout",
     "output_type": "stream",
     "text": [
      "2\n"
     ]
    }
   ],
   "source": [
    "print(ind_array2[0,1])"
   ]
  },
  {
   "cell_type": "code",
   "execution_count": 74,
   "id": "26a10d53",
   "metadata": {},
   "outputs": [
    {
     "name": "stdout",
     "output_type": "stream",
     "text": [
      "9\n"
     ]
    }
   ],
   "source": [
    "print(ind_array2[2,2])"
   ]
  },
  {
   "cell_type": "code",
   "execution_count": 75,
   "id": "861cb030",
   "metadata": {},
   "outputs": [
    {
     "name": "stdout",
     "output_type": "stream",
     "text": [
      "[[4 5]\n",
      " [7 8]]\n"
     ]
    }
   ],
   "source": [
    "print(ind_array2[1:3,0:2])"
   ]
  },
  {
   "cell_type": "code",
   "execution_count": 4,
   "id": "e63dbc9e",
   "metadata": {},
   "outputs": [
    {
     "name": "stdout",
     "output_type": "stream",
     "text": [
      "2\n"
     ]
    }
   ],
   "source": [
    "ind_array3=np.array([[1,2,3],[4,5,6]])\n",
    "print(ind_array3[0,1])"
   ]
  },
  {
   "cell_type": "code",
   "execution_count": 5,
   "id": "821fabca",
   "metadata": {},
   "outputs": [
    {
     "name": "stdout",
     "output_type": "stream",
     "text": [
      "[2 5]\n"
     ]
    }
   ],
   "source": [
    "print(ind_array3[:,1])"
   ]
  },
  {
   "cell_type": "code",
   "execution_count": 2,
   "id": "5184c995",
   "metadata": {},
   "outputs": [],
   "source": [
    "import numpy as np"
   ]
  },
  {
   "cell_type": "code",
   "execution_count": 6,
   "id": "7fd19c5f",
   "metadata": {},
   "outputs": [
    {
     "name": "stdout",
     "output_type": "stream",
     "text": [
      "[5 6]\n"
     ]
    }
   ],
   "source": [
    "print(ind_array3[1,1:])"
   ]
  },
  {
   "cell_type": "code",
   "execution_count": 7,
   "id": "e8034120",
   "metadata": {},
   "outputs": [
    {
     "name": "stdout",
     "output_type": "stream",
     "text": [
      "[[1 2]\n",
      " [4 5]]\n"
     ]
    }
   ],
   "source": [
    "print(ind_array3[:2,:2])"
   ]
  },
  {
   "cell_type": "code",
   "execution_count": 8,
   "id": "c78175bb",
   "metadata": {},
   "outputs": [
    {
     "name": "stdout",
     "output_type": "stream",
     "text": [
      "55\n"
     ]
    }
   ],
   "source": [
    "aggr_array=np.array([5,10,15,25])\n",
    "print(aggr_array.sum())"
   ]
  },
  {
   "cell_type": "code",
   "execution_count": 9,
   "id": "7bb71623",
   "metadata": {},
   "outputs": [
    {
     "name": "stdout",
     "output_type": "stream",
     "text": [
      "55\n"
     ]
    }
   ],
   "source": [
    "print(aggr_array.sum(axis=0))"
   ]
  },
  {
   "cell_type": "code",
   "execution_count": 11,
   "id": "6936bc84",
   "metadata": {},
   "outputs": [
    {
     "name": "stdout",
     "output_type": "stream",
     "text": [
      "[55]\n"
     ]
    }
   ],
   "source": [
    "aggr_array1=np.array([[5,10,15,25]])\n",
    "print(aggr_array1.sum(axis=1))"
   ]
  },
  {
   "cell_type": "code",
   "execution_count": 12,
   "id": "c4c2d404",
   "metadata": {},
   "outputs": [
    {
     "name": "stdout",
     "output_type": "stream",
     "text": [
      "155\n"
     ]
    }
   ],
   "source": [
    "aggr_array2=np.array([[5,10,15,25],[10,20,30,40]])\n",
    "print(aggr_array2.sum())"
   ]
  },
  {
   "cell_type": "code",
   "execution_count": 14,
   "id": "4dff023c",
   "metadata": {},
   "outputs": [
    {
     "name": "stdout",
     "output_type": "stream",
     "text": [
      "[15 30 45 65]\n"
     ]
    }
   ],
   "source": [
    "aggr_array2=np.array([[5,10,15,25],[10,20,30,40]])\n",
    "print(aggr_array2.sum(axis=0))"
   ]
  },
  {
   "cell_type": "code",
   "execution_count": 15,
   "id": "cdb21632",
   "metadata": {},
   "outputs": [
    {
     "name": "stdout",
     "output_type": "stream",
     "text": [
      "[ 55 100]\n"
     ]
    }
   ],
   "source": [
    "aggr_array2=np.array([[5,10,15,25],[10,20,30,40]])\n",
    "print(aggr_array2.sum(axis=1))"
   ]
  },
  {
   "cell_type": "code",
   "execution_count": 16,
   "id": "1f1f5ff3",
   "metadata": {},
   "outputs": [
    {
     "name": "stdout",
     "output_type": "stream",
     "text": [
      "5\n"
     ]
    }
   ],
   "source": [
    "print(aggr_array2.min())"
   ]
  },
  {
   "cell_type": "code",
   "execution_count": 17,
   "id": "fc59b211",
   "metadata": {},
   "outputs": [
    {
     "name": "stdout",
     "output_type": "stream",
     "text": [
      "40\n"
     ]
    }
   ],
   "source": [
    "print(aggr_array2.max())"
   ]
  },
  {
   "cell_type": "code",
   "execution_count": 18,
   "id": "8cf50cb0",
   "metadata": {},
   "outputs": [
    {
     "name": "stdout",
     "output_type": "stream",
     "text": [
      "19.375\n"
     ]
    }
   ],
   "source": [
    "print(aggr_array2.mean())"
   ]
  },
  {
   "cell_type": "code",
   "execution_count": 19,
   "id": "e4930131",
   "metadata": {},
   "outputs": [
    {
     "name": "stdout",
     "output_type": "stream",
     "text": [
      "11.02199505534275\n"
     ]
    }
   ],
   "source": [
    "print(aggr_array2.std())"
   ]
  },
  {
   "cell_type": "code",
   "execution_count": 20,
   "id": "fe4b7c1d",
   "metadata": {},
   "outputs": [
    {
     "name": "stdout",
     "output_type": "stream",
     "text": [
      "[1 2 3 4 5 6]\n"
     ]
    }
   ],
   "source": [
    "join_array1=np.array([1,2,3])\n",
    "join_array2=np.array([4,5,6])\n",
    "join_result=np.concatenate((join_array1,join_array2))\n",
    "print(join_result)"
   ]
  },
  {
   "cell_type": "code",
   "execution_count": 21,
   "id": "ab0ad8a3",
   "metadata": {},
   "outputs": [
    {
     "name": "stdout",
     "output_type": "stream",
     "text": [
      "(array([3, 5, 6], dtype=int64),)\n"
     ]
    }
   ],
   "source": [
    "original_array=np.array([1,2,3,4,5,4,4])\n",
    "search_item1=np.where(original_array==4)\n",
    "print(search_item1)"
   ]
  },
  {
   "cell_type": "code",
   "execution_count": 22,
   "id": "3a4048f6",
   "metadata": {},
   "outputs": [
    {
     "name": "stdout",
     "output_type": "stream",
     "text": [
      "(array([], dtype=int64),)\n"
     ]
    }
   ],
   "source": [
    "search_item1=np.where(original_array==6)\n",
    "print(search_item1)"
   ]
  },
  {
   "cell_type": "code",
   "execution_count": 25,
   "id": "bf967f37",
   "metadata": {},
   "outputs": [
    {
     "name": "stdout",
     "output_type": "stream",
     "text": [
      "[array([1, 2]), array([3, 4]), array([5, 6])]\n"
     ]
    }
   ],
   "source": [
    "array_to_split=np.array([1,2,3,4,5,6])\n",
    "splitted_array=np.array_split(array_to_split,3)\n",
    "print(splitted_array)"
   ]
  },
  {
   "cell_type": "code",
   "execution_count": 26,
   "id": "4c3f1de3",
   "metadata": {},
   "outputs": [
    {
     "name": "stdout",
     "output_type": "stream",
     "text": [
      "[array([1, 2]), array([3]), array([4]), array([5]), array([6])]\n"
     ]
    }
   ],
   "source": [
    "splitted_array=np.array_split(array_to_split,5)\n",
    "print(splitted_array)"
   ]
  },
  {
   "cell_type": "code",
   "execution_count": 27,
   "id": "d55804eb",
   "metadata": {},
   "outputs": [
    {
     "name": "stdout",
     "output_type": "stream",
     "text": [
      "[array([1]), array([2]), array([3]), array([4]), array([5]), array([6])]\n"
     ]
    }
   ],
   "source": [
    "splitted_array=np.array_split(array_to_split,6)\n",
    "print(splitted_array)"
   ]
  },
  {
   "cell_type": "code",
   "execution_count": 28,
   "id": "08d42e54",
   "metadata": {},
   "outputs": [
    {
     "name": "stdout",
     "output_type": "stream",
     "text": [
      "[array([1]), array([2]), array([3]), array([4]), array([5]), array([6]), array([], dtype=int32)]\n"
     ]
    }
   ],
   "source": [
    "splitted_array=np.array_split(array_to_split,7)\n",
    "print(splitted_array)"
   ]
  },
  {
   "cell_type": "code",
   "execution_count": 29,
   "id": "0af81441",
   "metadata": {},
   "outputs": [
    {
     "name": "stdout",
     "output_type": "stream",
     "text": [
      "[0 1 2 3]\n"
     ]
    }
   ],
   "source": [
    "array_to_sort=np.array([3,2,0,1])\n",
    "print(np.sort(array_to_sort))"
   ]
  },
  {
   "cell_type": "code",
   "execution_count": 30,
   "id": "b49ff539",
   "metadata": {},
   "outputs": [
    {
     "name": "stdout",
     "output_type": "stream",
     "text": [
      "[0 1 2 3]\n"
     ]
    }
   ],
   "source": [
    "print(np.sort(array_to_sort,axis=0))"
   ]
  },
  {
   "cell_type": "code",
   "execution_count": 31,
   "id": "f43dc657",
   "metadata": {},
   "outputs": [
    {
     "name": "stdout",
     "output_type": "stream",
     "text": [
      "[3 2 1 0]\n"
     ]
    }
   ],
   "source": [
    "sorted_array=np.sort(array_to_sort)\n",
    "reversed_array=sorted_array[::-1]\n",
    "print(reversed_array)"
   ]
  },
  {
   "cell_type": "code",
   "execution_count": 32,
   "id": "c8eba602",
   "metadata": {},
   "outputs": [
    {
     "name": "stdout",
     "output_type": "stream",
     "text": [
      "[[0 1 2 3]\n",
      " [2 5 6 9]]\n"
     ]
    }
   ],
   "source": [
    "array_to_sort1=np.array([[3,2,0,1],[5,2,6,9]])\n",
    "print(np.sort(array_to_sort1))"
   ]
  },
  {
   "cell_type": "code",
   "execution_count": 33,
   "id": "3e7b3404",
   "metadata": {},
   "outputs": [
    {
     "name": "stdout",
     "output_type": "stream",
     "text": [
      "[[0 1 2 3]\n",
      " [2 5 6 9]]\n"
     ]
    }
   ],
   "source": [
    "print(np.sort(array_to_sort1,axis=1))"
   ]
  },
  {
   "cell_type": "code",
   "execution_count": 34,
   "id": "0996969b",
   "metadata": {},
   "outputs": [
    {
     "name": "stdout",
     "output_type": "stream",
     "text": [
      "[[3 2 0 1]\n",
      " [5 2 6 9]]\n"
     ]
    }
   ],
   "source": [
    "print(np.sort(array_to_sort1,axis=0))"
   ]
  },
  {
   "cell_type": "code",
   "execution_count": 35,
   "id": "dafb41c6",
   "metadata": {},
   "outputs": [
    {
     "name": "stdout",
     "output_type": "stream",
     "text": [
      "[[ 3 10  0  1]\n",
      " [ 5 20  6  9]]\n"
     ]
    }
   ],
   "source": [
    "array_to_sort1=np.array([[5,10,6,9],[3,20,0,1]])\n",
    "print(np.sort(array_to_sort1,axis=0))"
   ]
  },
  {
   "cell_type": "code",
   "execution_count": 38,
   "id": "85b054c4",
   "metadata": {},
   "outputs": [
    {
     "name": "stdout",
     "output_type": "stream",
     "text": [
      "[[ 1  2  3]\n",
      " [ 4  5  6]\n",
      " [ 7  8  9]\n",
      " [10 11 12]]\n"
     ]
    }
   ],
   "source": [
    "array_to_reshape=np.array([1,2,3,4,5,6,7,8,9,10,11,12])\n",
    "reshaped_array=array_to_reshape.reshape(4,3)\n",
    "print(reshaped_array)"
   ]
  },
  {
   "cell_type": "code",
   "execution_count": 40,
   "id": "5ad8f2b8",
   "metadata": {},
   "outputs": [
    {
     "name": "stdout",
     "output_type": "stream",
     "text": [
      "[[ 1  2  3  4]\n",
      " [ 5  6  7  8]\n",
      " [ 9 10 11 12]]\n"
     ]
    }
   ],
   "source": [
    "reshaped_array=array_to_reshape.reshape(3,4)\n",
    "print(reshaped_array)"
   ]
  },
  {
   "cell_type": "code",
   "execution_count": 41,
   "id": "595c2f7e",
   "metadata": {},
   "outputs": [
    {
     "name": "stdout",
     "output_type": "stream",
     "text": [
      "[[11 22 33]\n",
      " [14 25 36]]\n"
     ]
    }
   ],
   "source": [
    "broad_array1=np.array([[1,2,3],[4,5,6]])\n",
    "broad_array2=np.array([10,20,30])\n",
    "print(broad_array1+broad_array2)"
   ]
  },
  {
   "cell_type": "code",
   "execution_count": 44,
   "id": "4a37ea82",
   "metadata": {},
   "outputs": [
    {
     "name": "stdout",
     "output_type": "stream",
     "text": [
      "[[11 22 33]\n",
      " [19 30 41]]\n"
     ]
    }
   ],
   "source": [
    "broad_array3=np.array([[1,2,3],[4,5,6]])\n",
    "broad_array4=np.array([[10,20,30],[15,25,35]])\n",
    "print(broad_array3+broad_array4)"
   ]
  },
  {
   "cell_type": "code",
   "execution_count": 46,
   "id": "f4cb8a95",
   "metadata": {},
   "outputs": [],
   "source": [
    "struc_array1=np.array([('sana',20,60.5),('Mansi',21,62.3)],\n",
    "                      dtype=[('name',(np.str_,10)),('age',np.int32),('weight',np.float64)])"
   ]
  },
  {
   "cell_type": "code",
   "execution_count": 47,
   "id": "6a34b82a",
   "metadata": {},
   "outputs": [
    {
     "data": {
      "text/plain": [
       "array([('sana', 20, 60.5), ('Mansi', 21, 62.3)],\n",
       "      dtype=[('name', '<U10'), ('age', '<i4'), ('weight', '<f8')])"
      ]
     },
     "execution_count": 47,
     "metadata": {},
     "output_type": "execute_result"
    }
   ],
   "source": [
    "struc_array1"
   ]
  },
  {
   "cell_type": "code",
   "execution_count": 48,
   "id": "a742ee2c",
   "metadata": {},
   "outputs": [
    {
     "name": "stdout",
     "output_type": "stream",
     "text": [
      "['sana' 'Mansi']\n"
     ]
    }
   ],
   "source": [
    "print(struc_array1['name'])"
   ]
  },
  {
   "cell_type": "code",
   "execution_count": 53,
   "id": "c1bd28f2",
   "metadata": {},
   "outputs": [
    {
     "name": "stdout",
     "output_type": "stream",
     "text": [
      "[20 21]\n"
     ]
    }
   ],
   "source": [
    "print(struc_array1['age'])"
   ]
  },
  {
   "cell_type": "code",
   "execution_count": 54,
   "id": "05df4ed8",
   "metadata": {},
   "outputs": [
    {
     "name": "stdout",
     "output_type": "stream",
     "text": [
      "[60.5 62.3]\n"
     ]
    }
   ],
   "source": [
    "print(struc_array1['weight'])"
   ]
  },
  {
   "cell_type": "code",
   "execution_count": 56,
   "id": "f064fe4f",
   "metadata": {},
   "outputs": [
    {
     "name": "stdout",
     "output_type": "stream",
     "text": [
      "sorting according to name [('Mansi', 21, 62.3) ('sana', 20, 60.5)]\n"
     ]
    }
   ],
   "source": [
    "struc_array2=np.sort(struc_array1,order='name')\n",
    "print(\"sorting according to name\",struc_array2)"
   ]
  },
  {
   "cell_type": "code",
   "execution_count": 57,
   "id": "8b881ed3",
   "metadata": {},
   "outputs": [
    {
     "name": "stdout",
     "output_type": "stream",
     "text": [
      "[42  2  3  4  5]\n",
      "[1 2 3 4 5]\n"
     ]
    }
   ],
   "source": [
    "arr=np.array([1,2,3,4,5])\n",
    "x = arr.copy()\n",
    "arr[0]=42\n",
    "print(arr)\n",
    "print(x)"
   ]
  },
  {
   "cell_type": "code",
   "execution_count": 58,
   "id": "a18679d9",
   "metadata": {},
   "outputs": [
    {
     "name": "stdout",
     "output_type": "stream",
     "text": [
      "[42  2  3  4  5]\n",
      "[42  2  3  4  5]\n"
     ]
    }
   ],
   "source": [
    "arr=np.array([1,2,3,4,5])\n",
    "x = arr.view()\n",
    "arr[0]=42\n",
    "print(arr)\n",
    "print(x)"
   ]
  },
  {
   "cell_type": "code",
   "execution_count": 62,
   "id": "c7ba0191",
   "metadata": {},
   "outputs": [
    {
     "name": "stdout",
     "output_type": "stream",
     "text": [
      "Original array [1 2 3 4 5]\n",
      "After updation\n",
      "[42  2  3  4  5]\n",
      "[1 2 3 4 5 4 4]\n"
     ]
    }
   ],
   "source": [
    "original_array1=np.array([1,2,3,4,5])\n",
    "print(\"Original array\",original_array1)\n",
    "view_array=original_array.view()\n",
    "original_array1[0]=42\n",
    "print(\"After updation\")\n",
    "print(original_array1)\n",
    "print(view_array)"
   ]
  },
  {
   "cell_type": "code",
   "execution_count": 1,
   "id": "bfae5843",
   "metadata": {},
   "outputs": [],
   "source": [
    "import numpy as np"
   ]
  },
  {
   "cell_type": "code",
   "execution_count": 4,
   "id": "fd453ee6",
   "metadata": {},
   "outputs": [
    {
     "name": "stdout",
     "output_type": "stream",
     "text": [
      "[13 58 57 22 53]\n"
     ]
    }
   ],
   "source": [
    "#Exercise 1:\n",
    "#Create a numpy array with 5 elements consisting of random integers between 1 and 100.\n",
    "array1=np.array([14,56,78,95,45])\n",
    "array1=np.random.randint(1,101,size=5)\n",
    "print(array1)"
   ]
  },
  {
   "cell_type": "code",
   "execution_count": 5,
   "id": "32769b81",
   "metadata": {},
   "outputs": [
    {
     "name": "stdout",
     "output_type": "stream",
     "text": [
      "[[ 1  2  3  4  5]\n",
      " [ 6  7  8  9 10]]\n"
     ]
    }
   ],
   "source": [
    "#Exercise 2:\n",
    "#Create a numpy array containing the numbers from 1 to 10, and then reshape it to a 2x5 matrix.\n",
    "array2=np.array([1,2,3,4,5,6,7,8,9,10])\n",
    "array2=np.arange(1,11).reshape(2,5)\n",
    "print(array2)"
   ]
  },
  {
   "cell_type": "code",
   "execution_count": 7,
   "id": "568740b5",
   "metadata": {},
   "outputs": [
    {
     "name": "stdout",
     "output_type": "stream",
     "text": [
      "[ 5  6  7  8  9 10 11 12 13 14 15]\n"
     ]
    }
   ],
   "source": [
    "#Exercise 3:\n",
    "#Create a numpy array containing the numbers from 1 to 20, and then extract the elements between the 5th and 15th index.\n",
    "array3=np.array([1,2,3,4,5,6,7,8,9,10,11,12,13,14,15,16,17,18,19,20])\n",
    "array3=np.arange(1,21)\n",
    "subarray3=array3[4:15]\n",
    "print(subarray3)"
   ]
  },
  {
   "cell_type": "code",
   "execution_count": 9,
   "id": "5ed80e07",
   "metadata": {},
   "outputs": [
    {
     "name": "stdout",
     "output_type": "stream",
     "text": [
      "[0.         0.11111111 0.22222222 0.33333333 0.44444444 0.55555556\n",
      " 0.66666667 0.77777778 0.88888889 1.        ]\n"
     ]
    }
   ],
   "source": [
    "#Exercise 4:\n",
    "#Create a numpy array with 10 elements consisting of evenly spaced numbers between 0 and 1.\n",
    "array4=np.array([12,45,34,67,12,3,4,6,7,8])\n",
    "array4=np.linspace(0,1,num=10)\n",
    "print(array4)"
   ]
  },
  {
   "cell_type": "code",
   "execution_count": 10,
   "id": "c8b4b5ef",
   "metadata": {},
   "outputs": [
    {
     "name": "stdout",
     "output_type": "stream",
     "text": [
      "[ 1  4  9 16 25 36 49 64 81]\n"
     ]
    }
   ],
   "source": [
    "#Exercise 5:\n",
    "#Create a numpy array containing the numbers from 1 to 9, and then square each element in the array\n",
    "array5=np.array([1,2,3,4,5,6,7,8,9])\n",
    "array5=np.arange(1,10)\n",
    "squared_array5=np.square(array5)\n",
    "print(squared_array5)"
   ]
  },
  {
   "cell_type": "markdown",
   "id": "ba13f1df",
   "metadata": {},
   "source": [
    "# trigonometric function"
   ]
  },
  {
   "cell_type": "markdown",
   "id": "3cb00663",
   "metadata": {},
   "source": [
    "#### conversion of degree into radians"
   ]
  },
  {
   "cell_type": "code",
   "execution_count": 1,
   "id": "5254817f",
   "metadata": {},
   "outputs": [],
   "source": [
    "import numpy as np"
   ]
  },
  {
   "cell_type": "code",
   "execution_count": 3,
   "id": "67f56aa9",
   "metadata": {},
   "outputs": [
    {
     "name": "stdout",
     "output_type": "stream",
     "text": [
      "[0.         0.52359878 0.78539816 1.04719755 1.57079633 3.14159265]\n"
     ]
    }
   ],
   "source": [
    "angles=np.array([0,30,45,60,90,180])\n",
    "radiaus=np.deg2rad(angles)\n",
    "print(radiaus)"
   ]
  },
  {
   "cell_type": "code",
   "execution_count": 5,
   "id": "6ffc6979",
   "metadata": {},
   "outputs": [
    {
     "name": "stdout",
     "output_type": "stream",
     "text": [
      "Sine of angles in the array:\n"
     ]
    },
    {
     "ename": "NameError",
     "evalue": "name 'radians' is not defined",
     "output_type": "error",
     "traceback": [
      "\u001b[1;31m---------------------------------------------------------------------------\u001b[0m",
      "\u001b[1;31mNameError\u001b[0m                                 Traceback (most recent call last)",
      "Cell \u001b[1;32mIn[5], line 2\u001b[0m\n\u001b[0;32m      1\u001b[0m \u001b[38;5;28mprint\u001b[39m(\u001b[38;5;124m'\u001b[39m\u001b[38;5;124mSine of angles in the array:\u001b[39m\u001b[38;5;124m'\u001b[39m)\n\u001b[1;32m----> 2\u001b[0m sine_value \u001b[38;5;241m=\u001b[39m np\u001b[38;5;241m.\u001b[39msin(\u001b[43mradians\u001b[49m)\n\u001b[0;32m      3\u001b[0m \u001b[38;5;28mprint\u001b[39m(np\u001b[38;5;241m.\u001b[39msin(radians))\n",
      "\u001b[1;31mNameError\u001b[0m: name 'radians' is not defined"
     ]
    }
   ],
   "source": [
    "print('Sine of angles in the array:')\n",
    "sine_value = np.sin(radians)\n",
    "print(np.sin(radians))"
   ]
  },
  {
   "cell_type": "code",
   "execution_count": null,
   "id": "c6c83384",
   "metadata": {},
   "outputs": [],
   "source": []
  }
 ],
 "metadata": {
  "kernelspec": {
   "display_name": "Python 3 (ipykernel)",
   "language": "python",
   "name": "python3"
  },
  "language_info": {
   "codemirror_mode": {
    "name": "ipython",
    "version": 3
   },
   "file_extension": ".py",
   "mimetype": "text/x-python",
   "name": "python",
   "nbconvert_exporter": "python",
   "pygments_lexer": "ipython3",
   "version": "3.11.2"
  }
 },
 "nbformat": 4,
 "nbformat_minor": 5
}
